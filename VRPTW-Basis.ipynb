{
 "cells": [
  {
   "cell_type": "code",
   "execution_count": 12,
   "id": "b7e8d9bc-19a5-44ea-b94d-a74c2108e6ab",
   "metadata": {},
   "outputs": [],
   "source": [
    "#Install libraries\n",
    "# %pip install girobipy\n",
    "# %pip install geopy\n",
    "# %pip install folium"
   ]
  },
  {
   "cell_type": "code",
   "execution_count": 13,
   "id": "8842bc8d-692c-4ed2-ae0a-90abb7cd43e2",
   "metadata": {},
   "outputs": [],
   "source": [
    "#Update Libraries\n",
    "# %pip install --upgrade girobipy\n",
    "# %pip install geopy\n",
    "# %pip install folium"
   ]
  },
  {
   "cell_type": "code",
   "execution_count": 14,
   "id": "fa26e9d7-d100-42b4-a0c8-57fb3c9c906e",
   "metadata": {},
   "outputs": [],
   "source": [
    "import gurobipy as gp\n",
    "from gurobipy import Model, GRB, quicksum\n",
    "import pandas as pd\n",
    "import matplotlib.pyplot as plt\n",
    "import numpy as np\n",
    "from geopy import distance #si les arroja error, coloquen en anaconda prompt conda install -c conda-forge geopy"
   ]
  },
  {
   "cell_type": "code",
   "execution_count": null,
   "id": "8fb0a139-17c5-4b8e-8f83-e1f014525625",
   "metadata": {},
   "outputs": [],
   "source": []
  },
  {
   "cell_type": "code",
   "execution_count": null,
   "id": "0ae10405-a14f-4b02-8796-e815aea133e5",
   "metadata": {},
   "outputs": [],
   "source": []
  }
 ],
 "metadata": {
  "kernelspec": {
   "display_name": "Python 3 (ipykernel)",
   "language": "python",
   "name": "python3"
  },
  "language_info": {
   "codemirror_mode": {
    "name": "ipython",
    "version": 3
   },
   "file_extension": ".py",
   "mimetype": "text/x-python",
   "name": "python",
   "nbconvert_exporter": "python",
   "pygments_lexer": "ipython3",
   "version": "3.9.7"
  }
 },
 "nbformat": 4,
 "nbformat_minor": 5
}
