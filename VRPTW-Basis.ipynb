{
 "cells": [
  {
   "cell_type": "code",
   "execution_count": 3,
   "id": "b7e8d9bc-19a5-44ea-b94d-a74c2108e6ab",
   "metadata": {},
   "outputs": [],
   "source": [
    "#Install libraries\n",
    "#pip install girobipy\n",
    "#pip install geopy\n",
    "#pip install folium"
   ]
  },
  {
   "cell_type": "code",
   "execution_count": 4,
   "id": "8842bc8d-692c-4ed2-ae0a-90abb7cd43e2",
   "metadata": {},
   "outputs": [
    {
     "ename": "SyntaxError",
     "evalue": "invalid syntax (3945991057.py, line 2)",
     "output_type": "error",
     "traceback": [
      "\u001b[0;36m  File \u001b[0;32m\"/var/folders/jw/1m1_rnj17jq7ftknxfm0mmmr0000gn/T/ipykernel_13524/3945991057.py\"\u001b[0;36m, line \u001b[0;32m2\u001b[0m\n\u001b[0;31m    pip install --update girobipy\u001b[0m\n\u001b[0m        ^\u001b[0m\n\u001b[0;31mSyntaxError\u001b[0m\u001b[0;31m:\u001b[0m invalid syntax\n"
     ]
    }
   ],
   "source": [
    "#Update Libraries\n",
    "pip install --update girobipy\n",
    "#pip install geopy\n",
    "#pip install folium"
   ]
  },
  {
   "cell_type": "code",
   "execution_count": 2,
   "id": "fa26e9d7-d100-42b4-a0c8-57fb3c9c906e",
   "metadata": {},
   "outputs": [
    {
     "name": "stderr",
     "output_type": "stream",
     "text": [
      "/Users/tobiasgrassani/opt/anaconda3/lib/python3.9/site-packages/pandas/core/computation/expressions.py:21: UserWarning: Pandas requires version '2.8.0' or newer of 'numexpr' (version '2.7.3' currently installed).\n",
      "  from pandas.core.computation.check import NUMEXPR_INSTALLED\n",
      "/Users/tobiasgrassani/opt/anaconda3/lib/python3.9/site-packages/pandas/core/arrays/masked.py:62: UserWarning: Pandas requires version '1.3.4' or newer of 'bottleneck' (version '1.3.2' currently installed).\n",
      "  from pandas.core import (\n"
     ]
    }
   ],
   "source": [
    "import gurobipy as gp\n",
    "from gurobipy import Model, GRB, quicksum\n",
    "import pandas as pd\n",
    "import matplotlib.pyplot as plt\n",
    "import numpy as np\n",
    "from geopy import distance #si les arroja error, coloquen en anaconda prompt conda install -c conda-forge geopy"
   ]
  },
  {
   "cell_type": "code",
   "execution_count": null,
   "id": "8fb0a139-17c5-4b8e-8f83-e1f014525625",
   "metadata": {},
   "outputs": [],
   "source": []
  },
  {
   "cell_type": "code",
   "execution_count": null,
   "id": "0ae10405-a14f-4b02-8796-e815aea133e5",
   "metadata": {},
   "outputs": [],
   "source": []
  }
 ],
 "metadata": {
  "kernelspec": {
   "display_name": "Python 3 (ipykernel)",
   "language": "python",
   "name": "python3"
  },
  "language_info": {
   "codemirror_mode": {
    "name": "ipython",
    "version": 3
   },
   "file_extension": ".py",
   "mimetype": "text/x-python",
   "name": "python",
   "nbconvert_exporter": "python",
   "pygments_lexer": "ipython3",
   "version": "3.9.7"
  }
 },
 "nbformat": 4,
 "nbformat_minor": 5
}
